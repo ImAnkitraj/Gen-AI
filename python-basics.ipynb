{
 "cells": [
  {
   "cell_type": "code",
   "execution_count": null,
   "metadata": {},
   "outputs": [],
   "source": [
    "from  math import sqrt\n",
    "\n",
    "sqrt(16)"
   ]
  },
  {
   "cell_type": "code",
   "execution_count": null,
   "metadata": {},
   "outputs": [],
   "source": [
    "#### list\n",
    "list = [1, 2, \"ab\", 'b']\n",
    "print(list[:-1])\n",
    "print(list[-1:])\n",
    "print(list[::-1])\n",
    "\n",
    "##### List Comprehensions\n",
    "print([i for i in range(10) if i%2 == 0])\n",
    "print([[i, j] for i in range(5) for j in range(3)])"
   ]
  },
  {
   "cell_type": "code",
   "execution_count": null,
   "metadata": {},
   "outputs": [],
   "source": [
    "from abc import ABC, abstractmethod\n",
    "\n",
    "class Vehicle(ABC):\n",
    "  @abstractmethod\n",
    "  def startEngine(self):\n",
    "    pass\n",
    "\n",
    "\n",
    "\n",
    "class Tesla(Vehicle):\n",
    "  def close(): \n",
    "    pass\n",
    "\n",
    "\n"
   ]
  },
  {
   "cell_type": "code",
   "execution_count": null,
   "metadata": {},
   "outputs": [],
   "source": [
    "# Private Variables\n",
    "class Person():\n",
    "  def __init__(self, name, age, gender):\n",
    "    self.__name = name\n",
    "    self.__age = age\n",
    "    self.gender = gender\n",
    "\n",
    "\n",
    "person = Person(\"Ankit\", 24, \"M\")\n",
    "\n",
    "# Prints all methods and variables in a class\n",
    "print(dir(person))\n",
    "\n",
    "\n",
    "# Accessing private variables directly\n",
    "def getName(person):\n",
    "  print(person._Person__name)\n",
    "\n",
    "getName(person)"
   ]
  },
  {
   "cell_type": "code",
   "execution_count": 32,
   "metadata": {},
   "outputs": [
    {
     "data": {
      "text/plain": [
       "'Raj'"
      ]
     },
     "execution_count": 32,
     "metadata": {},
     "output_type": "execute_result"
    }
   ],
   "source": [
    "# Protected Variables\n",
    "class Person():\n",
    "  def __init__(self, name, age, gender):\n",
    "    self._name = name\n",
    "    self.__age = age\n",
    "    self.gender = gender\n",
    "\n",
    "\n",
    "person = Person(\"Raj\", 24, \"M\")\n",
    "dir(person)\n",
    "\n",
    "person._name\n"
   ]
  },
  {
   "cell_type": "code",
   "execution_count": null,
   "metadata": {},
   "outputs": [],
   "source": []
  }
 ],
 "metadata": {
  "kernelspec": {
   "display_name": "Python 3",
   "language": "python",
   "name": "python3"
  },
  "language_info": {
   "codemirror_mode": {
    "name": "ipython",
    "version": 3
   },
   "file_extension": ".py",
   "mimetype": "text/x-python",
   "name": "python",
   "nbconvert_exporter": "python",
   "pygments_lexer": "ipython3",
   "version": "3.12.3"
  }
 },
 "nbformat": 4,
 "nbformat_minor": 2
}
